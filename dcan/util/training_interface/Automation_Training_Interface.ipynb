{
 "cells": [
  {
   "cell_type": "markdown",
   "id": "98d23202-0b4a-4f50-9449-4ab742161b49",
   "metadata": {
    "tags": []
   },
   "source": [
    "#Introduction to the Automated Training GUI and How to Use It.\n",
    "\n",
    "The primary objective of creating a GUI was to develop a user-friendly\n",
    "interface to automate and streamline the process of training a deep\n",
    "learning algorithm for the purpose of brain segementation. The traditional\n",
    "approach prior to the app's creation of manually executing commands in the\n",
    "terminal, involving extensive copying and pasting of documentation, proved\n",
    "to be very tedius and time-consuming for users. This repetitive process not\n",
    "only made way for a ridiculous amount of potential errors, but also added a\n",
    "significant amount of unnecessary downtime in the workflow. The GUI\n",
    "addresses these challanges by providing an intuitive interface that\n",
    "simplifies and accelerates the training process which allows users to focus\n",
    "more on the analytical aspects of the process instead of the intricacies of\n",
    "command-line operations.\n",
    "\n",
    "In this NoteBook,the different functions of the GUI created by @Emoney and\n",
    "@Kenevan-Carter for the purpose of automating the training process will be\n",
    "detailed.\n",
    "                                        ---Functionality---\n",
    "Parameters:\n",
    "    Paths - On launch of the main Ui window, the user will see a list of 4 path arguments that must be filled out that are specific to where their own home directories are located. Every user will not be able to access the same files due to permission errors so it is important that the user has their own paths to a SynthSeg directory, Dcan-nn-unet, a Task Folder where all of the data is stored, and their own raw_data_base.\n",
    "\n",
    "    Modality - The user will also be asked to specify the modality--either t1,t2, or both t1 and t2 data-- so that the ai knows which files to look for when training the model.\n",
    "\n",
    "    Distribution - \n",
    "Presets: \n",
    "    The user can create a custom preset, which streamlines the setup process for new training sessions. This feature not only saves time but also reduces the likelihood of errors, ensuring a smoother and more efficient start.\n",
    "Check Boxes:\n",
    "    Listed on the right side of the screen when launching the main UI window are 8 different check boxes . These are the necessar\n",
    "\n",
    "\n",
    "\n",
    "\n",
    "\n",
    " \n",
    "\n",
    "                                         ---How to Launch the GUI---\n",
    "***Requirements***\n",
    "\n",
    "*Must be within the training_interface directory where this document is located*\n",
    "\n",
    "*Also must be within the SynthSeg-Fixed-Perms environment*"
   ]
  },
  {
   "cell_type": "markdown",
   "id": "19d061c2-8e4c-4ca8-9a3d-a7bf6b877db3",
   "metadata": {},
   "source": [
    "source /home/faird/shared/code/external/envs/miniconda3/load_miniconda3.sh"
   ]
  },
  {
   "cell_type": "markdown",
   "id": "1618888f-3a73-40b9-8024-f76d021f02d7",
   "metadata": {},
   "source": [
    "conda activate SynthSeg-Fixed-Perms"
   ]
  },
  {
   "cell_type": "raw",
   "id": "97d3ca41-eb18-474d-a380-6cc3072a86eb",
   "metadata": {},
   "source": [
    "---To launch the GUI, use the command:"
   ]
  },
  {
   "cell_type": "markdown",
   "id": "61e642e5-f7b6-44ad-854a-0c3417869825",
   "metadata": {},
   "source": [
    "python pyqt_test.py"
   ]
  },
  {
   "cell_type": "markdown",
   "id": "a480d3e8-b1bc-4542-b0a4-6ced6d388dde",
   "metadata": {},
   "source": [
    "On launch, "
   ]
  }
 ],
 "metadata": {
  "kernelspec": {
   "display_name": "Python 3 (ipykernel)",
   "language": "python",
   "name": "python3"
  },
  "language_info": {
   "codemirror_mode": {
    "name": "ipython",
    "version": 3
   },
   "file_extension": ".py",
   "mimetype": "text/x-python",
   "name": "python",
   "nbconvert_exporter": "python",
   "pygments_lexer": "ipython3",
   "version": "3.7.11"
  }
 },
 "nbformat": 4,
 "nbformat_minor": 5
}
